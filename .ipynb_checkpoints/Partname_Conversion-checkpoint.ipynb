{
 "cells": [
  {
   "cell_type": "code",
   "execution_count": 3,
   "id": "97ff624b-6ced-43fa-a195-d23a2f2bc7f2",
   "metadata": {},
   "outputs": [
    {
     "name": "stdout",
     "output_type": "stream",
     "text": [
      "{1: {'A': 16, 'B': 19, 'C': 13, 'D': 4, 'E': 1, 'F': 19, 'G': 1, 'H': 16, 'J': 21, 'K ': 20, 'M': 6, 'N': 28}, 2: {'A': 16, 'B': 35, 'C': 22, 'D': 4, 'E': 5, 'F': 16, 'G': 2, 'H': 13, 'J': 12, 'K ': 13, 'M': 20, 'N': 32}, 3: {'A': 19, 'B': 13, 'C': 11, 'D': 5, 'E': 3, 'F': 18, 'G': 3, 'H': 23, 'J': 25, 'K ': 15, 'M': 17, 'N': 26}, 4: {'A': 8, 'B': 31, 'C': 10, 'D': 9, 'E': 1, 'F': 10, 'G': 2, 'H': 23, 'J': 30, 'K ': 44, 'N': 25}, 5: {'A': 9, 'B': 32, 'C': 36, 'D': 9, 'E': 5, 'F': 11, 'G': 5, 'H': 14, 'J': 15, 'K ': 28, 'M': 7, 'N': 36}}\n"
     ]
    }
   ],
   "source": [
    "import pandas as pd\n",
    "\n",
    "# Load the Excel file\n",
    "file_path = 'Dataset/Set1_PartName.xlsx'  # Update this with each of your file path\n",
    "df = pd.read_excel(file_path)\n",
    "\n",
    "# Group by 'Set' and count occurrences of 'Part_Name'\n",
    "grouped = df.groupby(['Set', 'Part_Name']).size().unstack(fill_value=0)\n",
    "\n",
    "# Convert the result into the desired format\n",
    "result = grouped.apply(lambda x: x[x > 0].to_dict(), axis=1).to_dict()\n",
    "\n",
    "# Print the result\n",
    "print(result)"
   ]
  },
  {
   "cell_type": "code",
   "execution_count": null,
   "id": "0c07d667-6262-44de-9951-2c3b8273da6c",
   "metadata": {},
   "outputs": [],
   "source": []
  },
  {
   "cell_type": "code",
   "execution_count": null,
   "id": "39a8d707-f013-422c-8ac7-5c79837d5896",
   "metadata": {},
   "outputs": [],
   "source": []
  }
 ],
 "metadata": {
  "kernelspec": {
   "display_name": "Python 3 (ipykernel)",
   "language": "python",
   "name": "python3"
  },
  "language_info": {
   "codemirror_mode": {
    "name": "ipython",
    "version": 3
   },
   "file_extension": ".py",
   "mimetype": "text/x-python",
   "name": "python",
   "nbconvert_exporter": "python",
   "pygments_lexer": "ipython3",
   "version": "3.12.4"
  }
 },
 "nbformat": 4,
 "nbformat_minor": 5
}
